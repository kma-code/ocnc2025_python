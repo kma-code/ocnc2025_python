{
 "cells": [
  {
   "cell_type": "markdown",
   "id": "metallic-walker",
   "metadata": {
    "tags": []
   },
   "source": [
    "# Load packages"
   ]
  },
  {
   "cell_type": "code",
   "execution_count": 1,
   "id": "loose-scope",
   "metadata": {},
   "outputs": [],
   "source": [
    "import numpy as np\n",
    "import matplotlib.pyplot as plt\n",
    "import timeit"
   ]
  },
  {
   "cell_type": "markdown",
   "id": "tough-episode",
   "metadata": {},
   "source": [
    "Let's make sure that we are using numpy 1.26.4 for backwards compatibility (last version before 2.0, which doesn't yet have support from all packages):"
   ]
  },
  {
   "cell_type": "code",
   "execution_count": 2,
   "id": "recreational-light",
   "metadata": {},
   "outputs": [
    {
     "data": {
      "text/plain": [
       "'1.26.4'"
      ]
     },
     "execution_count": 2,
     "metadata": {},
     "output_type": "execute_result"
    }
   ],
   "source": [
    "np.version.version"
   ]
  },
  {
   "cell_type": "markdown",
   "id": "graphic-entry",
   "metadata": {},
   "source": [
    "# A simple LIF neuron"
   ]
  },
  {
   "cell_type": "markdown",
   "id": "coupled-garage",
   "metadata": {},
   "source": [
    "https://colab.research.google.com/github/johanjan/MOOC-HPFEM-source/blob/master/LIF_ei_balance_irregularity.ipynb#scrollTo=Hhk7e-QreVSh"
   ]
  },
  {
   "cell_type": "code",
   "execution_count": 3,
   "id": "multiple-handbook",
   "metadata": {},
   "outputs": [],
   "source": [
    "class LIF_neuron:\n",
    "    def __init__(self, params):\n",
    "        # attach parameters to object\n",
    "        self.V_th, self.V_reset = params['V_th'], params['V_reset']   \n",
    "        self.tau_m, self.g_L = params['tau_m'], params['g_L']        \n",
    "        self.V_init, self.V_L = params['V_init'], params['V_L']       \n",
    "        self.dt = params['dt']\n",
    "        self.tau_ref = params['tau_ref']\n",
    "\n",
    "        # initialize voltage and current\n",
    "        self.v = 0.0\n",
    "        # time steps since last spike\n",
    "        self.refractory_counter = 0\n",
    "    \n",
    "    def LIF_step(self, I):\n",
    "        \"\"\"\n",
    "            Perform one step of the LIF dynamics\n",
    "        \"\"\"\n",
    "        \n",
    "        currently_spiking = False\n",
    "        \n",
    "        if self.refractory_counter > 0:\n",
    "            # if the neuron is still refractory\n",
    "            self.v = self.V_reset\n",
    "            self.refractory_counter = self.refractory_counter - 1\n",
    "        elif self.v >= self.V_th:\n",
    "            # if v is above threshold,\n",
    "            # reset voltage and record spike event\n",
    "            currently_spiking = True\n",
    "            self.v = self.V_reset\n",
    "            self.refractory_counter = self.tau_ref/self.dt\n",
    "        else:\n",
    "            # else, integrate the current:\n",
    "            # calculate the increment of the membrane potential\n",
    "            dv = self.voltage_dynamics(I)\n",
    "            # update the membrane potential\n",
    "            self.v = self.v + dv\n",
    "\n",
    "        return self.v, currently_spiking\n",
    "    \n",
    "    def voltage_dynamics(self, I):\n",
    "        \"\"\"\n",
    "            Calulcates one step of the LI dynamics\n",
    "        \"\"\"\n",
    "        dv = (-(self.v-self.V_L) + I/self.g_L) * (self.dt/self.tau_m)\n",
    "        return dv\n",
    "        "
   ]
  },
  {
   "cell_type": "code",
   "execution_count": 4,
   "id": "printable-denmark",
   "metadata": {},
   "outputs": [],
   "source": [
    "params = {}\n",
    "### typical neuron parameters###\n",
    "params['V_th']    = -55. # spike threshold [mV]\n",
    "params['V_reset'] = -75. #reset potential [mV]\n",
    "params['tau_m']   = 10. # membrane time constant [ms]\n",
    "params['g_L']     = 10. #leak conductance [nS]\n",
    "params['V_init']  = -65. # initial potential [mV]\n",
    "params['V_L']     = -75. #leak reversal potential [mV]\n",
    "params['tau_ref']    = 2. # refractory time (ms)\n",
    "params['dt'] = .1  # Simulation time step [ms]"
   ]
  },
  {
   "cell_type": "code",
   "execution_count": 5,
   "id": "representative-karen",
   "metadata": {},
   "outputs": [],
   "source": [
    "# initialize one neuron, i.e. an instance of the class\n",
    "neuron1 = LIF_neuron(params)"
   ]
  },
  {
   "cell_type": "code",
   "execution_count": 6,
   "id": "inclusive-coverage",
   "metadata": {},
   "outputs": [
    {
     "data": {
      "text/plain": [
       "(-75.0, True)"
      ]
     },
     "execution_count": 6,
     "metadata": {},
     "output_type": "execute_result"
    }
   ],
   "source": [
    "# let's check if everything works by performing one step:\n",
    "neuron1.LIF_step(I=300.0)"
   ]
  },
  {
   "cell_type": "code",
   "execution_count": 7,
   "id": "curious-thursday",
   "metadata": {},
   "outputs": [],
   "source": [
    "# simulate 500 time steps\n",
    "voltages = []\n",
    "spikes = []\n",
    "for _ in range(500):\n",
    "    v, s = neuron1.LIF_step(I=300.0)\n",
    "    voltages.append(v)\n",
    "    spikes.append(s)"
   ]
  },
  {
   "cell_type": "code",
   "execution_count": 8,
   "id": "direct-swedish",
   "metadata": {},
   "outputs": [
    {
     "data": {
      "image/png": "[encoded data removed]",
      "text/plain": [
       "<Figure size 432x288 with 1 Axes>"
      ]
     },
     "metadata": {
      "needs_background": "light"
     },
     "output_type": "display_data"
    }
   ],
   "source": [
    "plt.figure()\n",
    "plt.plot(voltages, c='blue')\n",
    "# for s in np.where(spikes)[0]:\n",
    "#     plt.axvline(s, c='red')\n",
    "plt.xlabel('Time step')\n",
    "plt.ylabel('V (mV)');\n",
    "plt.show()"
   ]
  },
  {
   "cell_type": "markdown",
   "id": "historical-terrorist",
   "metadata": {},
   "source": [
    "# Overriding classes with __super__"
   ]
  },
  {
   "cell_type": "code",
   "execution_count": 9,
   "id": "piano-interest",
   "metadata": {},
   "outputs": [],
   "source": [
    "class ExpLIF_neuron(LIF_neuron):\n",
    "    def __init__(self, params):\n",
    "        # build on LIF neuron with same settings\n",
    "        super().__init__(params)\n",
    "        \n",
    "        # we only need to attach additional variables:\n",
    "        self.DeltaT = params['DeltaT']\n",
    "        self.V_exp_trigger = params['V_exp_trigger']\n",
    "        \n",
    "    def voltage_dynamics(self, I):\n",
    "        \"\"\"\n",
    "            Calulcates one step of the exp-LI dynamics\n",
    "        \"\"\"\n",
    "        dv = (-(self.v-self.V_L) + I/self.g_L + self.DeltaT * np.exp((self.v-self.V_exp_trigger)/self.DeltaT)) * (self.dt/self.tau_m)\n",
    "        return dv\n",
    "        "
   ]
  },
  {
   "cell_type": "code",
   "execution_count": 10,
   "id": "attractive-above",
   "metadata": {},
   "outputs": [],
   "source": [
    "# additional parameters for ExpLIF neurons\n",
    "params['DeltaT'] = 10.0  # sharpness of exponential peak\n",
    "params['V_exp_trigger'] = -55. # threshold for exponential depolarization [mV]\n",
    "params['V_th'] = 0 # new spike threshold [mV]"
   ]
  },
  {
   "cell_type": "code",
   "execution_count": 11,
   "id": "celtic-earthquake",
   "metadata": {},
   "outputs": [],
   "source": [
    "# initialize one neuron\n",
    "neuron2 = ExpLIF_neuron(params)"
   ]
  },
  {
   "cell_type": "code",
   "execution_count": 12,
   "id": "conscious-chemical",
   "metadata": {},
   "outputs": [],
   "source": [
    "# simulate 500 time steps\n",
    "voltages = []\n",
    "spikes = []\n",
    "for _ in range(500):\n",
    "    v, s = neuron2.LIF_step(I=300.0)\n",
    "    voltages.append(v)\n",
    "    spikes.append(s)"
   ]
  },
  {
   "cell_type": "code",
   "execution_count": 13,
   "id": "matched-forwarding",
   "metadata": {},
   "outputs": [
    {
     "data": {
      "image/png": "[encoded data removed]",
      "text/plain": [
       "<Figure size 432x288 with 1 Axes>"
      ]
     },
     "metadata": {
      "needs_background": "light"
     },
     "output_type": "display_data"
    }
   ],
   "source": [
    "plt.figure()\n",
    "plt.plot(voltages, c='blue')\n",
    "# for s in np.where(spikes)[0]:\n",
    "#     plt.axvline(s, c='red')\n",
    "# plt.xlim(0, 100)\n",
    "plt.xlabel('Time step')\n",
    "plt.ylabel('V (mV)');\n",
    "plt.show()"
   ]
  },
  {
   "cell_type": "markdown",
   "id": "wicked-dublin",
   "metadata": {},
   "source": [
    "# Mutability"
   ]
  },
  {
   "cell_type": "markdown",
   "id": "coral-annotation",
   "metadata": {},
   "source": [
    "# Extending to populations, or: resisting the urge to hack it"
   ]
  },
  {
   "cell_type": "markdown",
   "id": "amber-willow",
   "metadata": {},
   "source": [
    "Let's say we want to simulate a population of 100 neurons. We could use the classes above:"
   ]
  },
  {
   "cell_type": "code",
   "execution_count": 14,
   "id": "abandoned-patent",
   "metadata": {},
   "outputs": [],
   "source": [
    "# population parameters\n",
    "n_neurons = 100\n",
    "\n",
    "population1 = [ExpLIF_neuron(params) for _ in range(n_neurons)]"
   ]
  },
  {
   "cell_type": "code",
   "execution_count": 15,
   "id": "geographic-pasta",
   "metadata": {},
   "outputs": [],
   "source": [
    "# # we now have a list of 100 neuron objects:\n",
    "# population1"
   ]
  },
  {
   "cell_type": "markdown",
   "id": "preliminary-purse",
   "metadata": {},
   "source": [
    "Let's give them all noisy currents:"
   ]
  },
  {
   "cell_type": "code",
   "execution_count": 16,
   "id": "recorded-suicide",
   "metadata": {},
   "outputs": [
    {
     "name": "stdout",
     "output_type": "stream",
     "text": [
      "Working on neuron 0\n",
      "Working on neuron 10\n",
      "Working on neuron 20\n",
      "Working on neuron 30\n",
      "Working on neuron 40\n",
      "Working on neuron 50\n",
      "Working on neuron 60\n",
      "Working on neuron 70\n",
      "Working on neuron 80\n",
      "Working on neuron 90\n"
     ]
    }
   ],
   "source": [
    "mean_I, std_I = 300, 100\n",
    "n_steps = 10_000\n",
    "\n",
    "# these will now become lists of lists (neurons, time steps)\n",
    "voltages_arr = []\n",
    "spikes_arr = []\n",
    "\n",
    "for i, neuron in enumerate(population1):\n",
    "    voltages = []\n",
    "    spikes = []\n",
    "    if i % 10 == 0:\n",
    "        print(f\"Working on neuron {i}\")\n",
    "    for _ in range(n_steps):\n",
    "        I = np.random.normal(mean_I, std_I)\n",
    "        v, s = neuron.LIF_step(I=I)\n",
    "        voltages.append(v)\n",
    "        spikes.append(s)\n",
    "    voltages_arr.append(voltages.copy())\n",
    "    spikes_arr.append(spikes.copy())"
   ]
  },
  {
   "cell_type": "code",
   "execution_count": 17,
   "id": "superb-communication",
   "metadata": {},
   "outputs": [
    {
     "data": {
      "image/png": "[encoded data removed]",
      "text/plain": [
       "<Figure size 432x288 with 1 Axes>"
      ]
     },
     "metadata": {
      "needs_background": "light"
     },
     "output_type": "display_data"
    }
   ],
   "source": [
    "# convert to numpy array\n",
    "voltages_arr = np.array(voltages_arr)\n",
    "spikes_arr = np.array(spikes_arr)\n",
    "\n",
    "# convert spikes to spike_timings\n",
    "spike_timings = [arr.nonzero()[0] for arr in spikes_arr]\n",
    "\n",
    "for i in range(n_neurons):\n",
    "    x = spike_timings[i]\n",
    "    y = [i for _ in spike_timings[i]]\n",
    "    plt.scatter(x, y, marker='.', c='black')\n",
    "plt.xlim(9000,10000)\n",
    "plt.xlabel('Time step')\n",
    "plt.ylabel('# Neuron')\n",
    "plt.show()"
   ]
  },
  {
   "cell_type": "markdown",
   "id": "tested-excuse",
   "metadata": {},
   "source": [
    "But that of course scales terribly, because every neuron is simulated sequentially."
   ]
  },
  {
   "cell_type": "code",
   "execution_count": 18,
   "id": "weekly-forestry",
   "metadata": {},
   "outputs": [],
   "source": [
    "class ExpLIF_population:\n",
    "    def __init__(self, params):\n",
    "        # attach parameters to object\n",
    "        self.V_th, self.V_reset = params['V_th'], params['V_reset']   \n",
    "        self.tau_m, self.g_L = params['tau_m'], params['g_L']        \n",
    "        self.V_init, self.V_L = params['V_init'], params['V_L']       \n",
    "        self.dt = params['dt']\n",
    "        self.tau_ref = params['tau_ref']\n",
    "        self.DeltaT = params['DeltaT']\n",
    "        self.V_exp_trigger = params['V_exp_trigger']\n",
    "        \n",
    "        # number of neurons\n",
    "        self.n_neurons = params[\"n_neurons\"]\n",
    "\n",
    "        # initialize voltage and current\n",
    "        self.v = np.zeros(self.n_neurons)\n",
    "        # time steps since last spike\n",
    "        self.refractory_counter = np.zeros(self.n_neurons)\n",
    "            \n",
    "    def LIF_step(self, I):\n",
    "        \"\"\"\n",
    "            Perform one step of the LIF dynamics\n",
    "        \"\"\"\n",
    "        \n",
    "        currently_spiking = np.array([False for _ in range(self.n_neurons)])\n",
    "        \n",
    "        # first, we need to get indices of neurons which\n",
    "        # are refractory, above threshold or neither:\n",
    "        idx_ref = np.where(self.refractory_counter > 0)[0]\n",
    "        idx_spk = np.where(self.v > self.V_th)[0]\n",
    "        \n",
    "        # exclude the other two cases\n",
    "        idx_else = np.where((self.refractory_counter <= 0) & (self.v <= self.V_th))[0]\n",
    "        \n",
    "        # if the neuron is still refractory\n",
    "        self.v[idx_ref] = self.V_reset\n",
    "        self.refractory_counter[idx_ref] -= 1\n",
    "        \n",
    "        # if v is above threshold,\n",
    "        # reset voltage and record spike event\n",
    "        currently_spiking[idx_spk] = True\n",
    "        self.v[idx_spk] = self.V_reset\n",
    "        self.refractory_counter[idx_spk] = self.tau_ref/self.dt\n",
    "        \n",
    "        # calculate the increment of the membrane potential\n",
    "        dv = self.voltage_dynamics(I)\n",
    "        # update the membrane potential only for non-spiking neurons\n",
    "        self.v[idx_else] += dv[idx_else]\n",
    "\n",
    "        return self.v, currently_spiking\n",
    "        \n",
    "    def voltage_dynamics(self, I):\n",
    "        \"\"\"\n",
    "            Calulcates one step of the exp-LI dynamics\n",
    "        \"\"\"\n",
    "        dv = (-(self.v-self.V_L) + I/self.g_L + self.DeltaT * np.exp((self.v-self.V_exp_trigger)/self.DeltaT)) * (self.dt/self.tau_m)\n",
    "        return dv\n",
    "        "
   ]
  },
  {
   "cell_type": "code",
   "execution_count": 19,
   "id": "adjacent-rally",
   "metadata": {},
   "outputs": [],
   "source": [
    "# population parameters\n",
    "n_neurons = 100\n",
    "params[\"n_neurons\"] = n_neurons\n",
    "\n",
    "population2 = ExpLIF_population(params)"
   ]
  },
  {
   "cell_type": "code",
   "execution_count": 20,
   "id": "green-roman",
   "metadata": {},
   "outputs": [],
   "source": [
    "mean_I, std_I = 300, 100\n",
    "n_steps = 10_000\n",
    "\n",
    "# these will now become lists of lists (neurons, time steps)\n",
    "voltages_arr = []\n",
    "spikes_arr = []\n",
    "\n",
    "for _ in range(n_steps):\n",
    "    I = np.random.normal(mean_I, std_I, size=n_neurons)\n",
    "    v, s = population2.LIF_step(I=I)\n",
    "    voltages_arr.append(v.copy())\n",
    "    spikes_arr.append(s.copy())"
   ]
  },
  {
   "cell_type": "code",
   "execution_count": 21,
   "id": "remarkable-interest",
   "metadata": {},
   "outputs": [
    {
     "data": {
      "image/png": "[encoded data removed]",
      "text/plain": [
       "<Figure size 432x288 with 1 Axes>"
      ]
     },
     "metadata": {
      "needs_background": "light"
     },
     "output_type": "display_data"
    }
   ],
   "source": [
    "# convert to numpy array\n",
    "voltages_arr = np.array(voltages_arr)\n",
    "spikes_arr = np.array(spikes_arr)\n",
    "\n",
    "# convert spikes to spike_timings\n",
    "# spike_timings = spikes_arr.T.nonzero()[0]\n",
    "\n",
    "for i in range(n_neurons):\n",
    "    x = spikes_arr[:,i].nonzero()[0]\n",
    "    y = [i for _ in range(len(x))]\n",
    "    plt.scatter(x, y, marker='.', c='black')\n",
    "plt.xlim(9000,10000)\n",
    "plt.xlabel('Time step')\n",
    "plt.ylabel('# Neuron')\n",
    "plt.show()"
   ]
  },
  {
   "cell_type": "markdown",
   "id": "bizarre-terrain",
   "metadata": {},
   "source": [
    "# Timeit and memory allocation"
   ]
  },
  {
   "cell_type": "markdown",
   "id": "signed-declaration",
   "metadata": {},
   "source": [
    "The code we wrote works, but there several things that we can do to make it run faster."
   ]
  },
  {
   "cell_type": "code",
   "execution_count": 38,
   "id": "wooden-banana",
   "metadata": {},
   "outputs": [],
   "source": [
    "params[\"n_neurons\"] = 10_000\n",
    "params[\"n_steps\"] = 10_000\n",
    "n_neurons = params[\"n_neurons\"]\n",
    "n_steps = params[\"n_steps\"]\n",
    "\n",
    "mean_I, std_I = 300, 100"
   ]
  },
  {
   "cell_type": "code",
   "execution_count": 32,
   "id": "other-lloyd",
   "metadata": {},
   "outputs": [
    {
     "name": "stdout",
     "output_type": "stream",
     "text": [
      "13.7 s ± 20.6 ms per loop (mean ± std. dev. of 3 runs, 1 loop each)\n"
     ]
    }
   ],
   "source": [
    "# %%timeit -n 1 -r 3\n",
    "\n",
    "# population1 = [ExpLIF_neuron(params) for _ in range(n_neurons)]\n",
    "\n",
    "# # these will now become lists of lists (neurons, time steps)\n",
    "# voltages_arr = []\n",
    "# spikes_arr = []\n",
    "\n",
    "# for i, neuron in enumerate(population1):\n",
    "#     voltages = []\n",
    "#     spikes = []\n",
    "# #     if i % 10 == 0:\n",
    "# #         print(f\"Working on neuron {i}\")\n",
    "#     for _ in range(n_steps):\n",
    "#         I = np.random.normal(mean_I, std_I)\n",
    "#         v, s = neuron.LIF_step(I=I)\n",
    "#         voltages.append(v)\n",
    "#         spikes.append(s)\n",
    "#     voltages_arr.append(voltages.copy())\n",
    "#     spikes_arr.append(spikes.copy())"
   ]
  },
  {
   "cell_type": "code",
   "execution_count": 39,
   "id": "distinguished-stationery",
   "metadata": {},
   "outputs": [
    {
     "name": "stdout",
     "output_type": "stream",
     "text": [
      "12.2 s ± 196 ms per loop (mean ± std. dev. of 3 runs, 1 loop each)\n"
     ]
    }
   ],
   "source": [
    "%%timeit -n 1 -r 3\n",
    "\n",
    "population2 = ExpLIF_population(params)\n",
    "\n",
    "mean_I, std_I = 300, 100\n",
    "n_steps = 10_000\n",
    "\n",
    "# these will now become lists of lists (neurons, time steps)\n",
    "voltages_arr = []\n",
    "spikes_arr = []\n",
    "\n",
    "for _ in range(n_steps):\n",
    "    I = np.random.normal(mean_I, std_I, size=n_neurons)\n",
    "    v, s = population2.LIF_step(I=I)\n",
    "    voltages_arr.append(v.copy())\n",
    "    spikes_arr.append(s.copy())"
   ]
  },
  {
   "cell_type": "code",
   "execution_count": 40,
   "id": "supported-mercy",
   "metadata": {},
   "outputs": [
    {
     "name": "stdout",
     "output_type": "stream",
     "text": [
      "11.9 s ± 423 ms per loop (mean ± std. dev. of 3 runs, 1 loop each)\n"
     ]
    }
   ],
   "source": [
    "%%timeit -n 1 -r 3\n",
    "\n",
    "population3 = ExpLIF_population(params)\n",
    "\n",
    "mean_I, std_I = 300, 100\n",
    "n_steps = 10_000\n",
    "\n",
    "# these will now become lists of lists (neurons, time steps)\n",
    "voltages_arr = np.zeros((n_steps, n_neurons))\n",
    "spikes_arr = np.zeros((n_steps, n_neurons))\n",
    "\n",
    "for i in range(n_steps):\n",
    "    I = np.random.normal(mean_I, std_I, size=n_neurons)\n",
    "    voltages_arr[i], spikes[i] = population3.LIF_step(I=I)"
   ]
  },
  {
   "cell_type": "markdown",
   "id": "cognitive-waters",
   "metadata": {},
   "source": [
    "# Broadcasting"
   ]
  },
  {
   "cell_type": "code",
   "execution_count": null,
   "id": "gorgeous-friday",
   "metadata": {},
   "outputs": [],
   "source": []
  }
 ],
 "metadata": {
  "kernelspec": {
   "display_name": "Python 3",
   "language": "python",
   "name": "python3"
  },
  "language_info": {
   "codemirror_mode": {
    "name": "ipython",
    "version": 3
   },
   "file_extension": ".py",
   "mimetype": "text/x-python",
   "name": "python",
   "nbconvert_exporter": "python",
   "pygments_lexer": "ipython3",
   "version": "3.9.7"
  }
 },
 "nbformat": 4,
 "nbformat_minor": 5
}
